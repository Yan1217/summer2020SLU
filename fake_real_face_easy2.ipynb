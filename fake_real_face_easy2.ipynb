{
 "cells": [
  {
   "cell_type": "code",
   "execution_count": 1,
   "metadata": {},
   "outputs": [
    {
     "ename": "SyntaxError",
     "evalue": "EOF while scanning triple-quoted string literal (<ipython-input-1-0d13a504c66a>, line 68)",
     "output_type": "error",
     "traceback": [
      "\u001b[0;36m  File \u001b[0;32m\"<ipython-input-1-0d13a504c66a>\"\u001b[0;36m, line \u001b[0;32m68\u001b[0m\n\u001b[0;31m    \u001b[0m\n\u001b[0m    ^\u001b[0m\n\u001b[0;31mSyntaxError\u001b[0m\u001b[0;31m:\u001b[0m EOF while scanning triple-quoted string literal\n"
     ]
    }
   ],
   "source": [
    "import keras\n",
    "keras.__version__\n",
    "import os, shutil,sys\n",
    "\n",
    "original_dataset_dir = '/home/yanru/summer2020/real_and_fake_face_ori'\n",
    "training_r = '/home/yanru/summer2020/real_and_fake_face_ori/training_real'\n",
    "training_f = '/home/yanru/summer2020/real_and_fake_face_ori/training_fake'\n",
    "fake_easy = '/home/yanru/summer2020/real_and_fake_easy/fake_easy'\n",
    "\n",
    "train_dir = '/home/yanru/summer2020/real_and_fake_easy/train'\n",
    "test_dir =  '/home/yanru/summer2020/real_and_fake_easy/test'\n",
    "\n",
    "train_real = '/home/yanru/summer2020/real_and_fake_easy/train/training_real'\n",
    "train_fake = '/home/yanru/summer2020/real_and_fake_easy/train/training_fake'\n",
    "\n",
    "\n",
    "test_real = '/home/yanru/summer2020/real_and_fake_easy/test/testing_real'\n",
    "test_fake = '/home/yanru/summer2020/real_and_fake_easy/test/testing_fake'\n",
    "\n",
    "\n",
    "\"\"\"\n",
    "# make a list of real imges \n",
    "list_real = os.listdir(training_r)\n",
    "#copy images to training real\n",
    "fnames = [list_real[i] for i in range (0,800)]\n",
    "for fname in fnames:\n",
    "    src = os.path.join(training_r, fname)\n",
    "    dst = os.path.join(train_real, fname)\n",
    "    shutil.copyfile(src, dst)\n",
    "\n",
    "\n",
    "# copy images to test real\n",
    "fnames = [list_real[i] for i in range (800,1081)]\n",
    "for fname in fnames:\n",
    "    src = os.path.join(training_r, fname)\n",
    "    dst = os.path.join(test_real, fname)\n",
    "    shutil.copyfile(src, dst)\n",
    "    \n",
    "    \n",
    "    \n",
    "# create a list of fake images \n",
    "list_fake = os.listdir(training_f)\n",
    "\n",
    "# copy the easy level to the fake_easy dirt\n",
    "fnames = [list_fake[i] for i in range (0,240)]\n",
    "for fname in fnames:\n",
    "    src = os.path.join(training_f, fname)\n",
    "    dst = os.path.join(fake_easy, fname)\n",
    "    shutil.copyfile(src, dst)\n",
    "    \n",
    "list_fake_easy = os.listdir(fake_easy)\n",
    "\n",
    "# copy the image to the training fake\n",
    "fnames = [list_fake_easy[i] for i in range (0,200)]\n",
    "for fname in fnames:\n",
    "    src = os.path.join(training_f, fname)\n",
    "    dst = os.path.join(train_fake, fname)\n",
    "    shutil.copyfile(src, dst)\n",
    "\n",
    "\n",
    "# copy the image to the testing fake \n",
    "fnames = [list_fake_easy[i] for i in range (200,240)]\n",
    "for fname in fnames:\n",
    "    src = os.path.join(training_f, fname)\n",
    "    dst = os.path.join(test_fake, fname)\n",
    "    shutil.copyfile(src, dst)\n",
    "\"\"\"\"\n",
    "\n"
   ]
  },
  {
   "cell_type": "code",
   "execution_count": null,
   "metadata": {},
   "outputs": [],
   "source": [
    "from keras import layers\n",
    "from keras import models"
   ]
  },
  {
   "cell_type": "code",
   "execution_count": null,
   "metadata": {},
   "outputs": [],
   "source": [
    "model = models.Sequential()\n",
    "model.add(layers.Conv2D(32, (3, 3), activation='relu',\n",
    "                        input_shape=(200,200, 3)))\n",
    "model.add(layers.MaxPooling2D((2, 2)))\n",
    "model.add(layers.Conv2D(64, (3, 3), activation='relu'))\n",
    "model.add(layers.MaxPooling2D((2, 2)))\n",
    "model.add(layers.Conv2D(64, (3, 3), activation='relu'))\n",
    "model.add(layers.MaxPooling2D((2, 2)))\n",
    "model.add(layers.Conv2D(128, (3, 3), activation='relu'))\n",
    "model.add(layers.MaxPooling2D((2, 2)))\n",
    "model.add(layers.Conv2D(128, (3, 3), activation='relu'))\n",
    "model.add(layers.MaxPooling2D((2, 2)))\n",
    "model.add(layers.Flatten())\n",
    "model.add(layers.Dense(512, activation='relu'))\n",
    "model.add(layers.Dense(1, activation='sigmoid'))\n",
    "\n"
   ]
  },
  {
   "cell_type": "code",
   "execution_count": null,
   "metadata": {},
   "outputs": [],
   "source": [
    "model.summary()"
   ]
  },
  {
   "cell_type": "code",
   "execution_count": null,
   "metadata": {},
   "outputs": [],
   "source": [
    "from keras import optimizers\n",
    "\n",
    "model.compile(loss='binary_crossentropy',\n",
    "              optimizer=optimizers.RMSprop(lr=1e-4),\n",
    "              metrics=['acc'])"
   ]
  },
  {
   "cell_type": "code",
   "execution_count": null,
   "metadata": {},
   "outputs": [],
   "source": [
    "from keras.preprocessing.image import ImageDataGenerator\n",
    "\n",
    "train_datagen = ImageDataGenerator(rescale = 1./255)\n",
    "test_datagen = ImageDataGenerator(rescale = 1./255)\n",
    "\n",
    "train_generator = train_datagen.flow_from_directory(\n",
    "                    train_dir,target_size = (200,200),batch_size = 20,class_mode = 'binary')\n",
    "\n",
    "test_generator = test_datagen.flow_from_directory(\n",
    "                    test_dir,target_size = (200,200),batch_size = 20,class_mode = 'binary')"
   ]
  },
  {
   "cell_type": "code",
   "execution_count": null,
   "metadata": {},
   "outputs": [],
   "source": [
    "history = model.fit_generator(\n",
    "      train_generator,\n",
    "      steps_per_epoch=100,\n",
    "      epochs=30)"
   ]
  },
  {
   "cell_type": "code",
   "execution_count": null,
   "metadata": {},
   "outputs": [],
   "source": [
    "import pandas as pd\n",
    "    \n",
    "hist_df = pd.DataFrame(history.history) \n",
    "\n",
    "# or save to csv: \n",
    "hist_csv_file = 'history_easy2.csv'\n",
    "with open(hist_csv_file, mode='w') as f:\n",
    "    hist_df.to_csv(f)"
   ]
  },
  {
   "cell_type": "code",
   "execution_count": null,
   "metadata": {},
   "outputs": [],
   "source": [
    "test_loss, test_acc = model.evaluate_generator(test_generator, steps=50)\n",
    "print('test acc:', test_acc)"
   ]
  }
 ],
 "metadata": {
  "kernelspec": {
   "display_name": "Python 3",
   "language": "python",
   "name": "python3"
  },
  "language_info": {
   "codemirror_mode": {
    "name": "ipython",
    "version": 3
   },
   "file_extension": ".py",
   "mimetype": "text/x-python",
   "name": "python",
   "nbconvert_exporter": "python",
   "pygments_lexer": "ipython3",
   "version": "3.7.6"
  }
 },
 "nbformat": 4,
 "nbformat_minor": 2
}
